{
 "cells": [
  {
   "cell_type": "markdown",
   "id": "a35ad6a4",
   "metadata": {},
   "source": [
    "### "
   ]
  },
  {
   "cell_type": "markdown",
   "id": "974ee1fd",
   "metadata": {},
   "source": [
    "# Overall Student Attendance"
   ]
  },
  {
   "cell_type": "markdown",
   "id": "70278d52",
   "metadata": {},
   "source": [
    "### "
   ]
  },
  {
   "cell_type": "code",
   "execution_count": 1,
   "id": "bc84fb97",
   "metadata": {},
   "outputs": [],
   "source": [
    "import json\n",
    "import pandas as pd\n",
    "import matplotlib.pyplot as plt"
   ]
  },
  {
   "cell_type": "code",
   "execution_count": 2,
   "id": "e97a0f91",
   "metadata": {},
   "outputs": [],
   "source": [
    "f = open('course_schedules 1st_pro.json', encoding=\"utf8\")\n",
    "data = json.load(f)\n",
    "df = pd.DataFrame(data)\n",
    "df=df.loc[df['status'] == \"completed\"]"
   ]
  },
  {
   "cell_type": "code",
   "execution_count": 3,
   "id": "29bffc8e",
   "metadata": {},
   "outputs": [],
   "source": [
    "attendance=[]\n",
    "Name=[]\n",
    "present=[]\n",
    "absent=[]\n",
    "pending=[]\n",
    "auto_a=[]\n",
    "manual_a=[]\n",
    "auto_p=[]\n",
    "manual_p=[]\n",
    "\n",
    "student_auto_p=[]\n",
    "student_manual_p=[]\n",
    "all_student=[]"
   ]
  },
  {
   "cell_type": "code",
   "execution_count": 4,
   "id": "2a78b2e7",
   "metadata": {},
   "outputs": [],
   "source": [
    "for no ,session in df.iterrows():\n",
    "    for i in session[\"staffs\"]:\n",
    "        first=i[\"staff_name\"][\"first\"]\n",
    "        last=i[\"staff_name\"][\"last\"]\n",
    "        Name.append(\" \".join([first, last]))\n",
    "        present_=0\n",
    "        absent_=0\n",
    "        pending_=0\n",
    "        auto_a_=0\n",
    "        manual_a_=0\n",
    "        auto_p_=0\n",
    "        manual_p_=0\n",
    "        student_auto_p_=[]\n",
    "        student_manual_p_=[]\n",
    "        for i in session[\"students\"]:\n",
    "            f=i[\"name\"][\"first\"]\n",
    "            l=i[\"name\"][\"last\"]\n",
    "            all_student.append(\" \".join([f, l]))\n",
    "            if i[\"status\"]==\"absent\":\n",
    "                absent_+=1\n",
    "                try:\n",
    "                    if i[\"mode\"]==\"auto\":\n",
    "                        auto_a_+=1\n",
    "                    elif i[\"mode\"]==\"manual\":\n",
    "                        manual_a_+=1\n",
    "                except:\n",
    "                    continue \n",
    "                \n",
    "            elif i[\"status\"]==\"pending\":\n",
    "                pending_+=1\n",
    "            \n",
    "            elif i[\"status\"]==\"present\":\n",
    "                present_+=1\n",
    "                try:\n",
    "                    if i[\"mode\"]==\"auto\":\n",
    "                        first=i[\"name\"][\"first\"]\n",
    "                        last=i[\"name\"][\"last\"]\n",
    "                        student_auto_p_.append(\" \".join([first, last]))\n",
    "                        auto_p_+=1\n",
    "                    elif i[\"mode\"]==\"manual\":\n",
    "                        first=i[\"name\"][\"first\"]\n",
    "                        last=i[\"name\"][\"last\"]\n",
    "                        student_manual_p_.append(\" \".join([first, last]))\n",
    "                        manual_p_+=1\n",
    "                except:\n",
    "                    continue\n",
    "        #status.append(\" \".join([str(present_), str(absent_),str(pending_),str(auto_a_),str(manual_a_),str(auto_p_),str(manual_p_)]))\n",
    "        present.append(str(present_))\n",
    "        absent.append(str(absent_))\n",
    "        pending.append(str(pending_))\n",
    "        auto_a.append(str(auto_a_))\n",
    "        manual_a.append(str(manual_a_))\n",
    "        auto_p.append(str(auto_p_))\n",
    "        manual_p.append(str(manual_p_))\n",
    "        student_auto_p.append(student_auto_p_)\n",
    "        student_manual_p.append(student_manual_p_)"
   ]
  },
  {
   "cell_type": "markdown",
   "id": "48be27b8",
   "metadata": {},
   "source": [
    "# "
   ]
  },
  {
   "cell_type": "markdown",
   "id": "f482c83a",
   "metadata": {},
   "source": [
    "# "
   ]
  },
  {
   "cell_type": "markdown",
   "id": "09a2e62c",
   "metadata": {},
   "source": [
    "## Create new Data_frame"
   ]
  },
  {
   "cell_type": "markdown",
   "id": "6c5e6f07",
   "metadata": {},
   "source": [
    "### "
   ]
  },
  {
   "cell_type": "code",
   "execution_count": 5,
   "id": "3469395c",
   "metadata": {},
   "outputs": [],
   "source": [
    "df = pd.DataFrame(list(zip(Name,present,absent,pending,auto_a,manual_a,auto_p,manual_p,student_auto_p,student_manual_p)),columns =[\"Name\",\"present\",\"absent\",\"pending\",\"auto_a\",\"manual_a\",\"auto_p\",\"manual_p\",\"student_auto_p\",\"student_manual_p\"])"
   ]
  },
  {
   "cell_type": "code",
   "execution_count": 6,
   "id": "2b580a0b",
   "metadata": {},
   "outputs": [],
   "source": [
    "df=df.head()"
   ]
  },
  {
   "cell_type": "code",
   "execution_count": 7,
   "id": "e3e86382",
   "metadata": {},
   "outputs": [],
   "source": [
    "all_student=set(all_student)"
   ]
  },
  {
   "cell_type": "code",
   "execution_count": 8,
   "id": "4ff3319c",
   "metadata": {},
   "outputs": [],
   "source": [
    "name=[]\n",
    "pie=[]\n",
    "per=[]\n",
    "classes=[]"
   ]
  },
  {
   "cell_type": "code",
   "execution_count": 9,
   "id": "b10ab7bc",
   "metadata": {},
   "outputs": [],
   "source": [
    "for stu in all_student:\n",
    "    auto=0\n",
    "    manual=0\n",
    "    class_=0\n",
    "    name.append(stu)\n",
    "    for no ,session in df.iterrows():\n",
    "        #for i in session[\"student_auto_p\"]:\n",
    "        if stu in session[\"student_auto_p\"]:\n",
    "            auto+=1\n",
    "            class_+=1\n",
    "        if stu in session[\"student_manual_p\"]:\n",
    "            manual+=1\n",
    "            class_+=1\n",
    "    classes.append(class_)\n",
    "    pie_=(auto,manual)\n",
    "    pie.append(pie_)\n",
    "    per_=auto+manual\n",
    "    if per_ !=0:\n",
    "        per_=(auto/per_)*100\n",
    "        per.append(per_)\n",
    "    else:\n",
    "        per.append(\"0\")"
   ]
  },
  {
   "cell_type": "code",
   "execution_count": 10,
   "id": "f254fa6b",
   "metadata": {},
   "outputs": [],
   "source": [
    "chart_data = pd.DataFrame(list(zip(name,pie,per,classes)),columns =[\"Name\",\"pie\",\"per\",\"classes\"])"
   ]
  },
  {
   "cell_type": "code",
   "execution_count": 11,
   "id": "c68106d5",
   "metadata": {},
   "outputs": [],
   "source": [
    "chart_data['per'] = chart_data['per'].astype(int)"
   ]
  },
  {
   "cell_type": "code",
   "execution_count": 12,
   "id": "d3bff592",
   "metadata": {},
   "outputs": [],
   "source": [
    "chart_data=chart_data.sort_values(['per','classes'],ascending = [True, False], na_position = 'first')"
   ]
  },
  {
   "cell_type": "code",
   "execution_count": 13,
   "id": "0a414884",
   "metadata": {},
   "outputs": [
    {
     "data": {
      "text/html": [
       "<div>\n",
       "<style scoped>\n",
       "    .dataframe tbody tr th:only-of-type {\n",
       "        vertical-align: middle;\n",
       "    }\n",
       "\n",
       "    .dataframe tbody tr th {\n",
       "        vertical-align: top;\n",
       "    }\n",
       "\n",
       "    .dataframe thead th {\n",
       "        text-align: right;\n",
       "    }\n",
       "</style>\n",
       "<table border=\"1\" class=\"dataframe\">\n",
       "  <thead>\n",
       "    <tr style=\"text-align: right;\">\n",
       "      <th></th>\n",
       "      <th>Name</th>\n",
       "      <th>pie</th>\n",
       "      <th>per</th>\n",
       "      <th>classes</th>\n",
       "    </tr>\n",
       "  </thead>\n",
       "  <tbody>\n",
       "    <tr>\n",
       "      <th>0</th>\n",
       "      <td>LAMA HALWANI</td>\n",
       "      <td>(0, 0)</td>\n",
       "      <td>0</td>\n",
       "      <td>0</td>\n",
       "    </tr>\n",
       "    <tr>\n",
       "      <th>1</th>\n",
       "      <td>MUTAZ SALMAN ALRADDADI</td>\n",
       "      <td>(0, 0)</td>\n",
       "      <td>0</td>\n",
       "      <td>0</td>\n",
       "    </tr>\n",
       "    <tr>\n",
       "      <th>2</th>\n",
       "      <td>ABDULAMJEED ALNEFAIE</td>\n",
       "      <td>(0, 0)</td>\n",
       "      <td>0</td>\n",
       "      <td>0</td>\n",
       "    </tr>\n",
       "    <tr>\n",
       "      <th>3</th>\n",
       "      <td>FARIS QASSIM KABOUS</td>\n",
       "      <td>(0, 0)</td>\n",
       "      <td>0</td>\n",
       "      <td>0</td>\n",
       "    </tr>\n",
       "    <tr>\n",
       "      <th>4</th>\n",
       "      <td>AHMAD J ALSAYYAD</td>\n",
       "      <td>(0, 0)</td>\n",
       "      <td>0</td>\n",
       "      <td>0</td>\n",
       "    </tr>\n",
       "    <tr>\n",
       "      <th>...</th>\n",
       "      <td>...</td>\n",
       "      <td>...</td>\n",
       "      <td>...</td>\n",
       "      <td>...</td>\n",
       "    </tr>\n",
       "    <tr>\n",
       "      <th>1880</th>\n",
       "      <td>ALI ALRAMADHAN</td>\n",
       "      <td>(0, 0)</td>\n",
       "      <td>0</td>\n",
       "      <td>0</td>\n",
       "    </tr>\n",
       "    <tr>\n",
       "      <th>1881</th>\n",
       "      <td>Hala Almansi</td>\n",
       "      <td>(0, 0)</td>\n",
       "      <td>0</td>\n",
       "      <td>0</td>\n",
       "    </tr>\n",
       "    <tr>\n",
       "      <th>1882</th>\n",
       "      <td>BAKRI B SHATA</td>\n",
       "      <td>(0, 0)</td>\n",
       "      <td>0</td>\n",
       "      <td>0</td>\n",
       "    </tr>\n",
       "    <tr>\n",
       "      <th>1883</th>\n",
       "      <td>MOHAMMED ABDULLAH ALSHAMRANI</td>\n",
       "      <td>(0, 0)</td>\n",
       "      <td>0</td>\n",
       "      <td>0</td>\n",
       "    </tr>\n",
       "    <tr>\n",
       "      <th>1884</th>\n",
       "      <td>HIBAH ALFAQIH</td>\n",
       "      <td>(0, 0)</td>\n",
       "      <td>0</td>\n",
       "      <td>0</td>\n",
       "    </tr>\n",
       "  </tbody>\n",
       "</table>\n",
       "<p>1659 rows × 4 columns</p>\n",
       "</div>"
      ],
      "text/plain": [
       "                              Name     pie  per  classes\n",
       "0                     LAMA HALWANI  (0, 0)    0        0\n",
       "1           MUTAZ SALMAN ALRADDADI  (0, 0)    0        0\n",
       "2             ABDULAMJEED ALNEFAIE  (0, 0)    0        0\n",
       "3              FARIS QASSIM KABOUS  (0, 0)    0        0\n",
       "4                 AHMAD J ALSAYYAD  (0, 0)    0        0\n",
       "...                            ...     ...  ...      ...\n",
       "1880                ALI ALRAMADHAN  (0, 0)    0        0\n",
       "1881                  Hala Almansi  (0, 0)    0        0\n",
       "1882                 BAKRI B SHATA  (0, 0)    0        0\n",
       "1883  MOHAMMED ABDULLAH ALSHAMRANI  (0, 0)    0        0\n",
       "1884                 HIBAH ALFAQIH  (0, 0)    0        0\n",
       "\n",
       "[1659 rows x 4 columns]"
      ]
     },
     "execution_count": 13,
     "metadata": {},
     "output_type": "execute_result"
    }
   ],
   "source": [
    "chart_data.loc[chart_data['pie'] == (0, 0)]"
   ]
  },
  {
   "cell_type": "markdown",
   "id": "cb8d4cdd",
   "metadata": {},
   "source": [
    "# "
   ]
  },
  {
   "cell_type": "markdown",
   "id": "c09c33fe",
   "metadata": {},
   "source": [
    "## Convert DF to CSV file to export"
   ]
  },
  {
   "cell_type": "markdown",
   "id": "de3435df",
   "metadata": {},
   "source": [
    "### "
   ]
  },
  {
   "cell_type": "code",
   "execution_count": 14,
   "id": "e009d139",
   "metadata": {},
   "outputs": [],
   "source": [
    "#chart_data.to_csv('Overall_student_Attendance.csv')"
   ]
  },
  {
   "cell_type": "code",
   "execution_count": 15,
   "id": "f63087f8",
   "metadata": {},
   "outputs": [],
   "source": [
    "chart_data=chart_data.loc[chart_data['pie'] != (0, 0)]"
   ]
  },
  {
   "cell_type": "code",
   "execution_count": 16,
   "id": "843317a9",
   "metadata": {},
   "outputs": [
    {
     "data": {
      "text/html": [
       "<div>\n",
       "<style scoped>\n",
       "    .dataframe tbody tr th:only-of-type {\n",
       "        vertical-align: middle;\n",
       "    }\n",
       "\n",
       "    .dataframe tbody tr th {\n",
       "        vertical-align: top;\n",
       "    }\n",
       "\n",
       "    .dataframe thead th {\n",
       "        text-align: right;\n",
       "    }\n",
       "</style>\n",
       "<table border=\"1\" class=\"dataframe\">\n",
       "  <thead>\n",
       "    <tr style=\"text-align: right;\">\n",
       "      <th></th>\n",
       "      <th>Name</th>\n",
       "      <th>pie</th>\n",
       "      <th>per</th>\n",
       "      <th>classes</th>\n",
       "    </tr>\n",
       "  </thead>\n",
       "  <tbody>\n",
       "    <tr>\n",
       "      <th>63</th>\n",
       "      <td>Asma Alkrait</td>\n",
       "      <td>(0, 2)</td>\n",
       "      <td>0</td>\n",
       "      <td>2</td>\n",
       "    </tr>\n",
       "    <tr>\n",
       "      <th>68</th>\n",
       "      <td>Layan Bakhidhr</td>\n",
       "      <td>(0, 2)</td>\n",
       "      <td>0</td>\n",
       "      <td>2</td>\n",
       "    </tr>\n",
       "    <tr>\n",
       "      <th>195</th>\n",
       "      <td>Raghad Alahdal</td>\n",
       "      <td>(0, 2)</td>\n",
       "      <td>0</td>\n",
       "      <td>2</td>\n",
       "    </tr>\n",
       "    <tr>\n",
       "      <th>277</th>\n",
       "      <td>Manar ALsulayhabi</td>\n",
       "      <td>(0, 2)</td>\n",
       "      <td>0</td>\n",
       "      <td>2</td>\n",
       "    </tr>\n",
       "    <tr>\n",
       "      <th>327</th>\n",
       "      <td>Wasan Mohammed Aljauid</td>\n",
       "      <td>(0, 2)</td>\n",
       "      <td>0</td>\n",
       "      <td>2</td>\n",
       "    </tr>\n",
       "    <tr>\n",
       "      <th>...</th>\n",
       "      <td>...</td>\n",
       "      <td>...</td>\n",
       "      <td>...</td>\n",
       "      <td>...</td>\n",
       "    </tr>\n",
       "    <tr>\n",
       "      <th>1571</th>\n",
       "      <td>Aisha Balubaid</td>\n",
       "      <td>(1, 0)</td>\n",
       "      <td>100</td>\n",
       "      <td>1</td>\n",
       "    </tr>\n",
       "    <tr>\n",
       "      <th>1606</th>\n",
       "      <td>Shahad Alqahtani</td>\n",
       "      <td>(1, 0)</td>\n",
       "      <td>100</td>\n",
       "      <td>1</td>\n",
       "    </tr>\n",
       "    <tr>\n",
       "      <th>1651</th>\n",
       "      <td>BAYAN QASSEM QATTAB</td>\n",
       "      <td>(1, 0)</td>\n",
       "      <td>100</td>\n",
       "      <td>1</td>\n",
       "    </tr>\n",
       "    <tr>\n",
       "      <th>1795</th>\n",
       "      <td>Lulu Almarri</td>\n",
       "      <td>(1, 0)</td>\n",
       "      <td>100</td>\n",
       "      <td>1</td>\n",
       "    </tr>\n",
       "    <tr>\n",
       "      <th>1875</th>\n",
       "      <td>Bayan Alturki</td>\n",
       "      <td>(1, 0)</td>\n",
       "      <td>100</td>\n",
       "      <td>1</td>\n",
       "    </tr>\n",
       "  </tbody>\n",
       "</table>\n",
       "<p>226 rows × 4 columns</p>\n",
       "</div>"
      ],
      "text/plain": [
       "                        Name     pie  per  classes\n",
       "63              Asma Alkrait  (0, 2)    0        2\n",
       "68            Layan Bakhidhr  (0, 2)    0        2\n",
       "195           Raghad Alahdal  (0, 2)    0        2\n",
       "277        Manar ALsulayhabi  (0, 2)    0        2\n",
       "327   Wasan Mohammed Aljauid  (0, 2)    0        2\n",
       "...                      ...     ...  ...      ...\n",
       "1571          Aisha Balubaid  (1, 0)  100        1\n",
       "1606        Shahad Alqahtani  (1, 0)  100        1\n",
       "1651     BAYAN QASSEM QATTAB  (1, 0)  100        1\n",
       "1795            Lulu Almarri  (1, 0)  100        1\n",
       "1875           Bayan Alturki  (1, 0)  100        1\n",
       "\n",
       "[226 rows x 4 columns]"
      ]
     },
     "execution_count": 16,
     "metadata": {},
     "output_type": "execute_result"
    }
   ],
   "source": [
    "chart_data"
   ]
  },
  {
   "cell_type": "code",
   "execution_count": 19,
   "id": "05173c57",
   "metadata": {},
   "outputs": [],
   "source": [
    "#taking middle 20 data for visualization\n",
    "#chart_data=chart_data.iloc[130:140]"
   ]
  },
  {
   "cell_type": "code",
   "execution_count": null,
   "id": "0eee79ba",
   "metadata": {},
   "outputs": [],
   "source": [
    "for no ,session in chart_data.iterrows():\n",
    "    if session[\"pie\"]!=(0, 0):\n",
    "        if session[\"per\"] >= 90:\n",
    "            lan=\" (Best student)\"\n",
    "        else:\n",
    "            lan=\"\"\n",
    "        mylabels = [\"auto\", \"manual\"]\n",
    "        myexplode = [0.2, 0]\n",
    "        plt.title(session[\"Name\"]+\" \"+str(session[\"classes\"])+\" classes \"+lan+\" A: \"+str(session[\"pie\"][0])+\" M: \"+str(session[\"pie\"][1]))\n",
    "        plt.pie(session[\"pie\"],labels = mylabels, explode = myexplode, shadow = True,autopct='%1.1f%%')\n",
    "        plt.show() \n",
    "        print(\"\"\"\n",
    "\n",
    "        \"\"\")"
   ]
  }
 ],
 "metadata": {
  "kernelspec": {
   "display_name": "Python 3 (ipykernel)",
   "language": "python",
   "name": "python3"
  },
  "language_info": {
   "codemirror_mode": {
    "name": "ipython",
    "version": 3
   },
   "file_extension": ".py",
   "mimetype": "text/x-python",
   "name": "python",
   "nbconvert_exporter": "python",
   "pygments_lexer": "ipython3",
   "version": "3.10.10"
  }
 },
 "nbformat": 4,
 "nbformat_minor": 5
}
